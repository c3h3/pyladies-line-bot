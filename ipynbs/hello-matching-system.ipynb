{
 "cells": [
  {
   "cell_type": "code",
   "execution_count": null,
   "metadata": {
    "collapsed": true
   },
   "outputs": [],
   "source": [
    "! cp ../local_settings.py ."
   ]
  },
  {
   "cell_type": "code",
   "execution_count": null,
   "metadata": {
    "collapsed": true
   },
   "outputs": [],
   "source": [
    "from pymongo import MongoClient\n",
    "\n",
    "import os\n",
    "# Variables about mongodb\n",
    "MONGODB_HOST = os.environ.get(\"MONGODB_HOST\", \"localhost\")\n",
    "MONGODB_PORT = int(os.environ.get(\"MONGODB_PORT\", 27017))\n",
    "MONGODB_USER = os.environ.get(\"MONGODB_USER\", \"\")\n",
    "MONGODB_PWD = os.environ.get(\"MONGODB_PWD\", \"\")\n",
    "DB = os.environ.get(\"DB\", \"pyladies-linebots\")\n",
    "\n",
    "try:\n",
    "    from local_settings import *\n",
    "except:\n",
    "    pass\n",
    "\n",
    "\n",
    "mcli = MongoClient(host=MONGODB_HOST, port=MONGODB_PORT)\n",
    "db = mcli[DB]\n",
    "\n",
    "if MONGODB_USER!=\"\":\n",
    "    db.authenticate(MONGODB_USER,MONGODB_PWD)\n"
   ]
  },
  {
   "cell_type": "code",
   "execution_count": null,
   "metadata": {
    "collapsed": false
   },
   "outputs": [],
   "source": [
    "db.events.find_one()"
   ]
  },
  {
   "cell_type": "code",
   "execution_count": null,
   "metadata": {
    "collapsed": false
   },
   "outputs": [],
   "source": [
    "db.events.find_one()[\"f_line_id\"]"
   ]
  },
  {
   "cell_type": "code",
   "execution_count": null,
   "metadata": {
    "collapsed": false
   },
   "outputs": [],
   "source": [
    "list(db.events.find())[0][\"f_busy_time\"]"
   ]
  },
  {
   "cell_type": "code",
   "execution_count": null,
   "metadata": {
    "collapsed": true
   },
   "outputs": [],
   "source": [
    "import pandas as pd"
   ]
  },
  {
   "cell_type": "code",
   "execution_count": null,
   "metadata": {
    "collapsed": false
   },
   "outputs": [],
   "source": [
    "pd.DataFrame(list(db.events.find())[0][\"matched_free_time\"])"
   ]
  },
  {
   "cell_type": "code",
   "execution_count": null,
   "metadata": {
    "collapsed": false
   },
   "outputs": [],
   "source": [
    "list(db.events.find())[0][\"my_busy_time\"]"
   ]
  },
  {
   "cell_type": "code",
   "execution_count": null,
   "metadata": {
    "collapsed": false
   },
   "outputs": [],
   "source": [
    "list(db.events.find())[0][\"f_busy_time\"]"
   ]
  },
  {
   "cell_type": "code",
   "execution_count": null,
   "metadata": {
    "collapsed": true
   },
   "outputs": [],
   "source": [
    "time_range = \"10D\"\n",
    "time_delta = \"2H\"\n",
    "event_data = list(db.events.find())[0]"
   ]
  },
  {
   "cell_type": "code",
   "execution_count": null,
   "metadata": {
    "collapsed": true
   },
   "outputs": [],
   "source": [
    "\n",
    "import pytz\n",
    "from datetime import datetime, timedelta\n",
    "import math\n",
    "import pandas as pd\n",
    "\n",
    "def match_free_time(time_range, time_delta, event_data):\n",
    "    assert time_range.endswith(\"D\")\n",
    "    assert isinstance(int(time_range.replace(\"D\", \"\")), int)\n",
    "    assert time_delta.endswith(\"H\")\n",
    "    assert isinstance(float(time_delta.replace(\"H\", \"\")), float)\n",
    "\n",
    "    time_range_days = int(time_range.replace(\"D\", \"\"))\n",
    "    time_delta_hours = float(time_delta.replace(\"H\", \"\"))\n",
    "\n",
    "    min_time_delta = 0.5\n",
    "    time_delta_hours = math.ceil(time_delta_hours / min_time_delta) * min_time_delta\n",
    "    n_sessions = math.ceil(time_delta_hours / min_time_delta)\n",
    "\n",
    "    utc_now = datetime.utcnow()\n",
    "    start_time = datetime(utc_now.year, utc_now.month, utc_now.day, utc_now.hour + 1)\n",
    "    end_time = start_time + timedelta(days=time_range_days)\n",
    "\n",
    "    twtz = pytz.timezone(\"Asia/Taipei\")\n",
    "    start_time = pytz.utc.localize(start_time).astimezone(twtz)\n",
    "    end_time = pytz.utc.localize(end_time).astimezone(twtz)\n",
    "\n",
    "    time_intervals_df = separate_into_xxxhours_sessions_for_listing(start_time, end_time, min_time_delta)\n",
    "    time_intervals_df[\"all\"] = 1\n",
    "    \n",
    "    return time_intervals_df\n",
    "\n",
    "    busy_time = event_data[\"my_busy_time\"]\n",
    "    busy_time_df = pd.DataFrame(busy_time)\n",
    "    \n",
    "    if busy_time_df.shape[0] > 0:\n",
    "    \n",
    "        busy_time_df[\"end\"] = busy_time_df.end.map(parse_utc_time_str_to_twtz_time)\n",
    "        busy_time_df[\"start\"] = busy_time_df.start.map(parse_utc_time_str_to_twtz_time)\n",
    "        busy_time_df[\"time_delta_hours\"] = min_time_delta\n",
    "        busy_time_df[\"start\"] = busy_time_df.start.map(\n",
    "            lambda t: datetime(t.year, t.month, t.day, t.hour, 0 if t.minute < 30 else 30, 0, 0, t.tz))\n",
    "        busy_time_df[\"end\"] = busy_time_df.end.map(\n",
    "            lambda t: datetime(t.year, t.month, t.day, t.hour + 1 if t.minute > 30 else t.hour,\n",
    "                               0 if (t.minute > 30 or t.minute == 0) else 30, 0, 0, t.tz))\n",
    "        \n",
    "        my_time_df = pd.concat(\n",
    "            list(map(lambda data: separate_into_xxxhours_sessions_for_listing(**data), busy_time_df.to_dict(\"records\"))), 0)\n",
    "        my_time_df[\"my\"] = 0\n",
    "        # my_time_df = my_time_df.set_index([\"start\",\"end\"])\n",
    "    \n",
    "    else:\n",
    "        my_time_df = time_intervals_df.copy()\n",
    "        my_time_df[\"my\"] = 1 \n",
    "        my_time_df = f_time_df[[\"start\",\"end\",\"my\"]]\n",
    "        \n",
    "        \n",
    "    # return my_time_df\n",
    "    \n",
    "    busy_time = event_data[\"f_busy_time\"]\n",
    "    busy_time_df = pd.DataFrame(busy_time)\n",
    "    print(\"busy_time_df = {v}\".format(v=busy_time_df))\n",
    "    print(\"busy_time_df.shape = {v}\".format(v=busy_time_df.shape))\n",
    "    \n",
    "    if busy_time_df.shape[0] > 0:\n",
    "        busy_time_df[\"end\"] = busy_time_df.end.map(parse_utc_time_str_to_twtz_time)\n",
    "        busy_time_df[\"start\"] = busy_time_df.start.map(parse_utc_time_str_to_twtz_time)\n",
    "        busy_time_df[\"time_delta_hours\"] = min_time_delta\n",
    "\n",
    "        busy_time_df[\"start\"] = busy_time_df.start.map(\n",
    "            lambda t: datetime(t.year, t.month, t.day, t.hour, 0 if t.minute < 30 else 30, 0, 0, t.tz))\n",
    "        busy_time_df[\"end\"] = busy_time_df.end.map(\n",
    "            lambda t: datetime(t.year, t.month, t.day, t.hour + 1 if t.minute > 30 else t.hour,\n",
    "                               0 if (t.minute > 30 or t.minute == 0) else 30, 0, 0, t.tz))\n",
    "\n",
    "        f_time_df = pd.concat(\n",
    "            list(map(lambda data: separate_into_xxxhours_sessions_for_listing(**data), busy_time_df.to_dict(\"records\"))), 0)\n",
    "        f_time_df[\"f\"] = 0\n",
    "        # f_time_df = f_time_df.set_index([\"start\",\"end\"])\n",
    "    else:\n",
    "        f_time_df = time_intervals_df.copy()\n",
    "        f_time_df[\"f\"] = 1 \n",
    "        f_time_df = f_time_df[[\"start\",\"end\",\"f\"]]\n",
    "        \n",
    "    my_and_f_time_df = pd.merge(pd.merge(f_time_df, my_time_df, how=\"outer\").fillna(1), time_intervals_df,\n",
    "                                how=\"outer\").fillna(1).sort([\"start\"], ascending=[1])\n",
    "    \n",
    "    #return my_and_f_time_df\n",
    "    \n",
    "    for i in range(n_sessions):\n",
    "        my_and_f_time_df[\"my_{i}\".format(i=i)] = my_and_f_time_df.my.shift(-i)\n",
    "        my_and_f_time_df[\"f_{i}\".format(i=i)] = my_and_f_time_df.f.shift(-i)\n",
    "\n",
    "    my_cols = [\"my_{i}\".format(i=i) for i in range(n_sessions)]\n",
    "    f_cols = [\"f_{i}\".format(i=i) for i in range(n_sessions)]\n",
    "\n",
    "    my_and_f_time_df[\"my_cols_sum\"] = my_and_f_time_df[my_cols].sum(1)\n",
    "    my_and_f_time_df[\"f_cols_sum\"] = my_and_f_time_df[f_cols].sum(1)\n",
    "\n",
    "    df = my_and_f_time_df.set_index([\"start\", \"end\"])\n",
    "\n",
    "    filtered_df = df[df[[\"my_cols_sum\", \"f_cols_sum\"]].sum(1) == 2 * n_sessions].reset_index()[[\"start\", \"end\"]]\n",
    "    filtered_df[\"end\"] = filtered_df.start.map(lambda t: t + timedelta(minutes=n_sessions * min_time_delta * 60))\n",
    "\n",
    "    return filtered_df.to_dict(\"records\")\n",
    "\n",
    "\n",
    "def separate_into_xxxhours_sessions_for_listing(start, end, time_delta_hours, session_delta=30):\n",
    "    time_intervals = []\n",
    "    i = 0\n",
    "    tmp_start_time = start\n",
    "    tmp_end_time = start + timedelta(hours=time_delta_hours)\n",
    "\n",
    "    while tmp_end_time <= end:\n",
    "        time_intervals.append({\"start\": tmp_start_time, \"end\": tmp_end_time})\n",
    "        tmp_start_time += timedelta(minutes=session_delta)\n",
    "        tmp_end_time += timedelta(minutes=session_delta)\n",
    "    time_intervals_df = pd.DataFrame(time_intervals)\n",
    "    # time_intervals_df.columns = [\"start\",\"end\"]\n",
    "\n",
    "    return time_intervals_df\n",
    "\n",
    "\n",
    "def separate_into_xxxhours_sessions_for_user(start, end, time_delta_hours, session_delta=30):\n",
    "    time_intervals = []\n",
    "    i = 0\n",
    "    tmp_start_time = start\n",
    "    tmp_end_time = start + timedelta(hours=time_delta_hours)\n",
    "\n",
    "    while tmp_start_time < end:\n",
    "        time_intervals.append({\"start\": tmp_start_time, \"end\": tmp_end_time})\n",
    "        tmp_start_time += timedelta(minutes=session_delta)\n",
    "        tmp_end_time += timedelta(minutes=session_delta)\n",
    "    time_intervals_df = pd.DataFrame(time_intervals)\n",
    "    # time_intervals_df.columns = [\"start\",\"end\"]\n",
    "\n",
    "    return time_intervals_df\n",
    "\n",
    "\n",
    "def parse_utc_time_str_to_twtz_time(time_str):\n",
    "    twtz = pytz.timezone(\"Asia/Taipei\")\n",
    "    t = datetime.strptime(time_str, \"%Y-%m-%dT%H:%M:%SZ\")\n",
    "    t = pytz.utc.localize(t)\n",
    "    t = t.astimezone(twtz)\n",
    "    return t"
   ]
  },
  {
   "cell_type": "code",
   "execution_count": null,
   "metadata": {
    "collapsed": false
   },
   "outputs": [],
   "source": [
    "test = match_free_time(time_range, time_delta, event_data)\n",
    "test"
   ]
  },
  {
   "cell_type": "code",
   "execution_count": null,
   "metadata": {
    "collapsed": true
   },
   "outputs": [],
   "source": []
  }
 ],
 "metadata": {
  "kernelspec": {
   "display_name": "Python 3",
   "language": "python",
   "name": "python3"
  },
  "language_info": {
   "codemirror_mode": {
    "name": "ipython",
    "version": 3
   },
   "file_extension": ".py",
   "mimetype": "text/x-python",
   "name": "python",
   "nbconvert_exporter": "python",
   "pygments_lexer": "ipython3",
   "version": "3.6.0"
  }
 },
 "nbformat": 4,
 "nbformat_minor": 2
}
