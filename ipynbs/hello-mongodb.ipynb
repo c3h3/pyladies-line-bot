{
 "cells": [
  {
   "cell_type": "markdown",
   "metadata": {},
   "source": [
    "# Basic Configurations:"
   ]
  },
  {
   "cell_type": "code",
   "execution_count": null,
   "metadata": {
    "collapsed": true
   },
   "outputs": [],
   "source": [
    "from pymongo import MongoClient\n",
    "\n",
    "import os\n",
    "# Variables about mongodb\n",
    "MONGODB_HOST = os.environ.get(\"MONGODB_HOST\", \"localhost\")\n",
    "MONGODB_PORT = int(os.environ.get(\"MONGODB_PORT\", 27017))\n",
    "MONGODB_USER = os.environ.get(\"MONGODB_USER\", \"\")\n",
    "MONGODB_PWD = os.environ.get(\"MONGODB_PWD\", \"\")\n",
    "DB = os.environ.get(\"DB\", \"pyladies-linebots\")\n",
    "\n",
    "try:\n",
    "    from local_settings import *\n",
    "except:\n",
    "    pass\n",
    "\n",
    "\n",
    "mcli = MongoClient(host=MONGODB_HOST, port=MONGODB_PORT)\n",
    "db = mcli[DB]\n",
    "\n",
    "if MONGODB_USER!=\"\":\n",
    "    db.authenticate(MONGODB_USER,MONGODB_PWD)\n"
   ]
  },
  {
   "cell_type": "markdown",
   "metadata": {},
   "source": [
    "# db.collection_names()"
   ]
  },
  {
   "cell_type": "code",
   "execution_count": null,
   "metadata": {
    "collapsed": false
   },
   "outputs": [],
   "source": [
    "db.collection_names()"
   ]
  },
  {
   "cell_type": "markdown",
   "metadata": {},
   "source": [
    "# db.collection.insert(doc)"
   ]
  },
  {
   "cell_type": "code",
   "execution_count": null,
   "metadata": {
    "collapsed": false
   },
   "outputs": [],
   "source": [
    "db.test_pyladies.insert({\"test\":123})"
   ]
  },
  {
   "cell_type": "code",
   "execution_count": null,
   "metadata": {
    "collapsed": false
   },
   "outputs": [],
   "source": [
    "# for i in range(10):\n",
    "#     db.test_pyladies.insert({\"test\":123})\n",
    "#     db.test_pyladies.insert({\"test\":321,\"abc\":456})"
   ]
  },
  {
   "cell_type": "markdown",
   "metadata": {},
   "source": [
    "# db.collection.find_one(query)"
   ]
  },
  {
   "cell_type": "code",
   "execution_count": null,
   "metadata": {
    "collapsed": false
   },
   "outputs": [],
   "source": [
    "db.test_pyladies.find_one()"
   ]
  },
  {
   "cell_type": "markdown",
   "metadata": {},
   "source": [
    "# db.collection.find(query)\n"
   ]
  },
  {
   "cell_type": "code",
   "execution_count": null,
   "metadata": {
    "collapsed": false
   },
   "outputs": [],
   "source": [
    "list(db.test_pyladies.find())"
   ]
  },
  {
   "cell_type": "markdown",
   "metadata": {},
   "source": [
    "# db.collection.update(query, new_doc)\n"
   ]
  },
  {
   "cell_type": "code",
   "execution_count": null,
   "metadata": {
    "collapsed": false
   },
   "outputs": [],
   "source": [
    "db.test_pyladies.update({\"abc\":456},{\"$set\":{\"def\":789,\"test\":4321}})"
   ]
  },
  {
   "cell_type": "code",
   "execution_count": null,
   "metadata": {
    "collapsed": false
   },
   "outputs": [],
   "source": [
    "list(db.test_pyladies.find())"
   ]
  },
  {
   "cell_type": "markdown",
   "metadata": {},
   "source": [
    "# db.collection.remove(query)\n"
   ]
  },
  {
   "cell_type": "code",
   "execution_count": null,
   "metadata": {
    "collapsed": true
   },
   "outputs": [],
   "source": [
    "db.test_pyladies.remove({\"abc\":456})"
   ]
  },
  {
   "cell_type": "code",
   "execution_count": null,
   "metadata": {
    "collapsed": true
   },
   "outputs": [],
   "source": [
    "list(db.test_pyladies.find())"
   ]
  }
 ],
 "metadata": {
  "kernelspec": {
   "display_name": "Python 3",
   "language": "python",
   "name": "python3"
  },
  "language_info": {
   "codemirror_mode": {
    "name": "ipython",
    "version": 3
   },
   "file_extension": ".py",
   "mimetype": "text/x-python",
   "name": "python",
   "nbconvert_exporter": "python",
   "pygments_lexer": "ipython3",
   "version": "3.6.0"
  }
 },
 "nbformat": 4,
 "nbformat_minor": 2
}
