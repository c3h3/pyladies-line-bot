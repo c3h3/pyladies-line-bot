{
 "cells": [
  {
   "cell_type": "markdown",
   "metadata": {},
   "source": [
    "# Copy local_settings.py and client_secret.json"
   ]
  },
  {
   "cell_type": "code",
   "execution_count": null,
   "metadata": {
    "collapsed": false
   },
   "outputs": [],
   "source": [
    "! cp ../local_settings.py ."
   ]
  },
  {
   "cell_type": "code",
   "execution_count": null,
   "metadata": {
    "collapsed": true
   },
   "outputs": [],
   "source": [
    "! cp ../client_secret.json ."
   ]
  },
  {
   "cell_type": "code",
   "execution_count": null,
   "metadata": {
    "collapsed": true
   },
   "outputs": [],
   "source": [
    "! cp ../todos_google_calendar.py ."
   ]
  },
  {
   "cell_type": "markdown",
   "metadata": {},
   "source": [
    "# Initial settings"
   ]
  },
  {
   "cell_type": "code",
   "execution_count": null,
   "metadata": {
    "collapsed": true
   },
   "outputs": [],
   "source": [
    "from pymongo import MongoClient\n",
    "\n",
    "import os\n",
    "# Variables about mongodb\n",
    "MONGODB_HOST = os.environ.get(\"MONGODB_HOST\", \"localhost\")\n",
    "MONGODB_PORT = int(os.environ.get(\"MONGODB_PORT\", 27017))\n",
    "MONGODB_USER = os.environ.get(\"MONGODB_USER\", \"\")\n",
    "MONGODB_PWD = os.environ.get(\"MONGODB_PWD\", \"\")\n",
    "DB = os.environ.get(\"DB\", \"pyladies-linebots\")\n",
    "\n",
    "try:\n",
    "    from local_settings import *\n",
    "except:\n",
    "    pass\n",
    "\n",
    "\n",
    "mcli = MongoClient(host=MONGODB_HOST, port=MONGODB_PORT)\n",
    "db = mcli[DB]\n",
    "\n",
    "if MONGODB_USER!=\"\":\n",
    "    db.authenticate(MONGODB_USER,MONGODB_PWD)\n",
    "    \n",
    "from linebot import (\n",
    "    LineBotApi, WebhookHandler\n",
    ")\n",
    "\n",
    "from linebot.exceptions import (\n",
    "    InvalidSignatureError\n",
    ")\n",
    "\n",
    "from linebot.models import (\n",
    "    MessageEvent, TextMessage, TextSendMessage\n",
    ")\n",
    "\n",
    "handler = WebhookHandler(CHANNEL_SECRET)\n",
    "line_bot_api = LineBotApi(ChHANNEL_ACCESS_TOKEN)"
   ]
  },
  {
   "cell_type": "code",
   "execution_count": null,
   "metadata": {
    "collapsed": false
   },
   "outputs": [],
   "source": [
    "CHANNEL_SECRET"
   ]
  },
  {
   "cell_type": "code",
   "execution_count": null,
   "metadata": {
    "collapsed": false
   },
   "outputs": [],
   "source": [
    "ChHANNEL_ACCESS_TOKEN"
   ]
  },
  {
   "cell_type": "code",
   "execution_count": null,
   "metadata": {
    "collapsed": true
   },
   "outputs": [],
   "source": []
  },
  {
   "cell_type": "markdown",
   "metadata": {},
   "source": [
    "# todos_google_calendar"
   ]
  },
  {
   "cell_type": "code",
   "execution_count": null,
   "metadata": {
    "collapsed": false
   },
   "outputs": [],
   "source": [
    "from todos_google_calendar import *"
   ]
  },
  {
   "cell_type": "code",
   "execution_count": null,
   "metadata": {
    "collapsed": false
   },
   "outputs": [],
   "source": [
    "get_google_calendar_oauth2_url()"
   ]
  },
  {
   "cell_type": "code",
   "execution_count": null,
   "metadata": {
    "collapsed": true
   },
   "outputs": [],
   "source": [
    "my_line_id = \"\"\n",
    "gcal_code = \"\""
   ]
  },
  {
   "cell_type": "code",
   "execution_count": null,
   "metadata": {
    "collapsed": true
   },
   "outputs": [],
   "source": [
    "cre, credential_path = store_credential(gcal_code, my_line_id)"
   ]
  },
  {
   "cell_type": "code",
   "execution_count": null,
   "metadata": {
    "collapsed": false
   },
   "outputs": [],
   "source": [
    "credential_path"
   ]
  },
  {
   "cell_type": "code",
   "execution_count": null,
   "metadata": {
    "collapsed": false
   },
   "outputs": [],
   "source": [
    "cre"
   ]
  },
  {
   "cell_type": "code",
   "execution_count": null,
   "metadata": {
    "collapsed": true
   },
   "outputs": [],
   "source": []
  },
  {
   "cell_type": "markdown",
   "metadata": {},
   "source": [
    "# save_user_profile"
   ]
  },
  {
   "cell_type": "code",
   "execution_count": null,
   "metadata": {
    "collapsed": false
   },
   "outputs": [],
   "source": [
    "save_user_profile(line_bot_api, APP_ID, db, my_line_id, cre, credential_path)"
   ]
  },
  {
   "cell_type": "code",
   "execution_count": null,
   "metadata": {
    "collapsed": true
   },
   "outputs": [],
   "source": []
  },
  {
   "cell_type": "markdown",
   "metadata": {},
   "source": [
    "# example: get_freebusy_events"
   ]
  },
  {
   "cell_type": "code",
   "execution_count": null,
   "metadata": {
    "collapsed": true
   },
   "outputs": [],
   "source": [
    "def get_freebusy_events(db, app_id, user_id, timeMin=None, timeMax=None):\n",
    "    credentials  = get_credentials(user_id, app_id, db)\n",
    "    http = credentials.authorize(httplib2.Http())\n",
    "    service = discovery.build('calendar', 'v3', http=http)\n",
    "    \n",
    "    if not timeMin:\n",
    "        timeMin = datetime.utcnow().isoformat() + 'Z'\n",
    "        \n",
    "    if not timeMax:\n",
    "        timeMax = (datetime.utcnow() + timedelta(days=7)).isoformat() + 'Z'\n",
    "\n",
    "\n",
    "    eventsResult = service.freebusy().query(body={\"items\": [{'id': 'primary'}], \"timeMin\": timeMin, \"timeMax\": timeMax}).execute()\n",
    "    events = eventsResult.get('calendars', [])\n",
    "\n",
    "    if not events:\n",
    "        return 'No upcoming events found.'\n",
    "\n",
    "    return events"
   ]
  },
  {
   "cell_type": "code",
   "execution_count": null,
   "metadata": {
    "collapsed": false
   },
   "outputs": [],
   "source": [
    "get_freebusy_events(db, APP_ID, my_line_id)"
   ]
  },
  {
   "cell_type": "code",
   "execution_count": null,
   "metadata": {
    "collapsed": true
   },
   "outputs": [],
   "source": []
  },
  {
   "cell_type": "markdown",
   "metadata": {},
   "source": [
    "# Implement get_at_most_5_events_in_next_7_days"
   ]
  },
  {
   "cell_type": "code",
   "execution_count": null,
   "metadata": {
    "collapsed": false
   },
   "outputs": [],
   "source": [
    "from datetime import timedelta\n",
    "\n",
    "def get_at_most_5_events_in_next_7_days(user_id, app_id, db):\n",
    "    credentials  = get_credentials(user_id, app_id, db)\n",
    "    http = credentials.authorize(httplib2.Http())\n",
    "    service = discovery.build('calendar', 'v3', http=http)\n",
    "    \n",
    "    #TODO: use service object to get 5 events in the next 7 days\n",
    "    #OUTPUT FORMAT:\n",
    "    #     (1) 2017-04-15~2017-04-15: miniBezos 1.0.0v Launch Day!\n",
    "    #     (2) 2017-04-15T22:00:00+08:00~2017-04-15T23:00:00+08:00: meet with Chia-Chi & Ann: 了解開課流程SOP\n",
    "    #     (3) 2017-04-16T11:00:00+08:00~2017-04-16T13:00:00+08:00: 推進毛毛霸新功能\n",
    "    #     (4) 2017-04-16T22:30:00+08:00~2017-04-16T23:30:00+08:00: DL 專欄小編會議\n",
    "    #     (5) 2017-04-17T19:30:00+08:00~2017-04-17T20:30:00+08:00: MLDM Monday\n",
    "    "
   ]
  },
  {
   "cell_type": "code",
   "execution_count": null,
   "metadata": {
    "collapsed": false
   },
   "outputs": [],
   "source": [
    "print(get_at_most_5_events_in_next_7_days(my_line_id, APP_ID, db))"
   ]
  },
  {
   "cell_type": "code",
   "execution_count": null,
   "metadata": {
    "collapsed": true
   },
   "outputs": [],
   "source": []
  }
 ],
 "metadata": {
  "kernelspec": {
   "display_name": "Python 3",
   "language": "python",
   "name": "python3"
  },
  "language_info": {
   "codemirror_mode": {
    "name": "ipython",
    "version": 3
   },
   "file_extension": ".py",
   "mimetype": "text/x-python",
   "name": "python",
   "nbconvert_exporter": "python",
   "pygments_lexer": "ipython3",
   "version": "3.6.0"
  }
 },
 "nbformat": 4,
 "nbformat_minor": 2
}
